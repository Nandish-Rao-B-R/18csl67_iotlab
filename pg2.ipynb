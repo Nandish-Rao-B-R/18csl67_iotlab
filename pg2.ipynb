{
 "cells": [
  {
   "cell_type": "code",
   "execution_count": 1,
   "id": "c339616d",
   "metadata": {
    "scrolled": true
   },
   "outputs": [
    {
     "name": "stdout",
     "output_type": "stream",
     "text": [
      "Training Data Set:\n"
     ]
    },
    {
     "ename": "NameError",
     "evalue": "name 'ds' is not defined",
     "output_type": "error",
     "traceback": [
      "\u001b[1;31m---------------------------------------------------------------------------\u001b[0m",
      "\u001b[1;31mNameError\u001b[0m                                 Traceback (most recent call last)",
      "\u001b[1;32m<ipython-input-1-2a1080ca0969>\u001b[0m in \u001b[0;36m<module>\u001b[1;34m\u001b[0m\n\u001b[0;32m      4\u001b[0m     \u001b[0mdata\u001b[0m\u001b[1;33m=\u001b[0m\u001b[0mlist\u001b[0m\u001b[1;33m(\u001b[0m\u001b[0mreaddata\u001b[0m\u001b[1;33m)\u001b[0m\u001b[1;33m\u001b[0m\u001b[1;33m\u001b[0m\u001b[0m\n\u001b[0;32m      5\u001b[0m \u001b[0mprint\u001b[0m\u001b[1;33m(\u001b[0m\u001b[1;34m\"Training Data Set:\"\u001b[0m\u001b[1;33m)\u001b[0m\u001b[1;33m\u001b[0m\u001b[1;33m\u001b[0m\u001b[0m\n\u001b[1;32m----> 6\u001b[1;33m \u001b[1;32mfor\u001b[0m \u001b[0mrow\u001b[0m \u001b[1;32min\u001b[0m \u001b[0mds\u001b[0m\u001b[1;33m:\u001b[0m\u001b[1;33m\u001b[0m\u001b[1;33m\u001b[0m\u001b[0m\n\u001b[0m\u001b[0;32m      7\u001b[0m     \u001b[0mprint\u001b[0m\u001b[1;33m(\u001b[0m\u001b[0mrow\u001b[0m\u001b[1;33m)\u001b[0m\u001b[1;33m\u001b[0m\u001b[1;33m\u001b[0m\u001b[0m\n\u001b[0;32m      8\u001b[0m \u001b[0mprint\u001b[0m\u001b[1;33m(\u001b[0m\u001b[1;34m\"-----------------------------------------\"\u001b[0m\u001b[1;33m)\u001b[0m\u001b[1;33m\u001b[0m\u001b[1;33m\u001b[0m\u001b[0m\n",
      "\u001b[1;31mNameError\u001b[0m: name 'ds' is not defined"
     ]
    }
   ],
   "source": []
  },
  {
   "cell_type": "code",
   "execution_count": 1,
   "id": "1944b445",
   "metadata": {},
   "outputs": [
    {
     "name": "stdout",
     "output_type": "stream",
     "text": [
      "Training Data Set:\n",
      "['N', 'b', 'b', 'b']\n",
      "['The News', 'India', 'Delhi', 'yes']\n",
      "['Jang', 'Punjab', 'Amritsar', 'yes']\n",
      "['The Nation', 'Punjab', 'Delhi', 'no']\n",
      "['Jang', 'India', 'Karnataka', 'no']\n",
      "['The Nation', 'Sindh', 'Delhi', 'yes']\n",
      "-----------------------------------------\n",
      "The hypothsis are\n",
      "S= ['0', '0', '0']\n",
      "G= ['?', '?', '?']\n",
      "-----------------------------------------\n",
      "\n",
      "S ['0', '0', '0']\n",
      "\n",
      "G= ['?', '?', '?']\n",
      "\n",
      "S ['The News', '0', '?']\n",
      "\n",
      "G= ['?', '?', '?']\n",
      "\n",
      "S ['?', '0', '?']\n",
      "\n",
      "G= ['?', '?', '?']\n",
      "\n",
      "S ['?', '0', '?']\n",
      "\n",
      "G= [['?', 'Punjab', '?']]\n",
      "\n",
      "S ['?', '0', '?']\n",
      "\n",
      "G= [['?', 'Punjab', '?'], ['?', 'India', '?']]\n",
      "\n",
      "S ['?', '0', '?']\n",
      "\n",
      "G= ['?', '?', '?']\n",
      "---------------------------------------\n"
     ]
    }
   ],
   "source": [
    "import csv\n",
    "with open('./file3.csv','r')as f:\n",
    "    readdata=csv.reader(f)\n",
    "    ds=list(readdata)\n",
    "print(\"Training Data Set:\")\n",
    "for row in ds:\n",
    "    print(row)\n",
    "print(\"-----------------------------------------\")\n",
    "atl=len(ds[0])-1\n",
    "S=['0']*atl\n",
    "G=['?']*atl\n",
    "temp=[]\n",
    "print(\"The hypothsis are\")\n",
    "print(\"S=\",S)\n",
    "print(\"G=\",G)\n",
    "print(\"-----------------------------------------\")\n",
    "for row in ds:\n",
    "    if row[-1]==\"yes\":\n",
    "        j=0\n",
    "        for col in row:\n",
    "            if col!='yes':\n",
    "                if col!=S[j] and S[j]=='0':\n",
    "                    S[j]=col\n",
    "                elif col!=S[j] and S[j]!='0':\n",
    "                    S[j]='?'\n",
    "                j=j+1\n",
    "            for j in range (0,atl):\n",
    "                for k in temp:\n",
    "                    if k[j]!=S[j] and k[j]!='?':\n",
    "                        temp.remove(k)\n",
    "    if row[-1]==\"no\":\n",
    "        j=0\n",
    "        for col in row:\n",
    "            if col!=\"no\":\n",
    "                if col!=S[j] and S[j]!='?' :\n",
    "                    if S[j]=='0':\n",
    "                        G[j]=col\n",
    "                    else:\n",
    "                        G[j]=S[j]\n",
    "                    temp.append(G)\n",
    "                    G=['?']*atl\n",
    "                j=j+1\n",
    "    print(\"\\nS\",S)\n",
    "    if len (temp)==0:\n",
    "        print(\"\\nG=\",G)\n",
    "    else :\n",
    "        print(\"\\nG=\",temp)\n",
    "print(\"---------------------------------------\")\n",
    "      \n",
    "                        \n",
    "      \n",
    "      \n",
    "   \n",
    "      "
   ]
  },
  {
   "cell_type": "code",
   "execution_count": null,
   "id": "3c2b8c06",
   "metadata": {},
   "outputs": [],
   "source": []
  }
 ],
 "metadata": {
  "kernelspec": {
   "display_name": "Python 3",
   "language": "python",
   "name": "python3"
  },
  "language_info": {
   "codemirror_mode": {
    "name": "ipython",
    "version": 3
   },
   "file_extension": ".py",
   "mimetype": "text/x-python",
   "name": "python",
   "nbconvert_exporter": "python",
   "pygments_lexer": "ipython3",
   "version": "3.8.8"
  }
 },
 "nbformat": 4,
 "nbformat_minor": 5
}
